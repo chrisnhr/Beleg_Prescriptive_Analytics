{
 "cells": [
  {
   "cell_type": "code",
   "execution_count": 1,
   "metadata": {},
   "outputs": [],
   "source": [
    "from InputData import *\n",
    "from OutputData import *\n",
    "from EvaluationLogic import *\n",
    "from ConstructiveHeuristics import *\n",
    "from ImprovementAlgorithm import *\n",
    "from Solver import *\n",
    "from Neighborhood import *\n"
   ]
  },
  {
   "attachments": {},
   "cell_type": "markdown",
   "metadata": {},
   "source": [
    "---\n",
    "### Hinweis\n",
    "---\n",
    "\n",
    "Die VNS enthält keine Parameter, wenn man die Basis VNS nach Hansen et al. implementiert. Um verschiedene Konfigurationen zu testen wurde daher die Instanz, EvaluationStrategy, Konstruktive Heuristik variiert. Wenn weitere Variationen gewünscht sind, könnte man die Permutationen der Nachbarschaften auswählen. Da diese aber bewusst in der gegebenen Reihenfolge verwendet wurden und viele Permutationen erzeugen würden, wurde davon abgesehen.\n",
    "Das Abbruchkriterium wurde in der Konsultation auf 180 s festgelegt. Der Seed-Wert wurde eigenständig ausgewählt. Eine Übersicht ist außerdem in der beigefügten Excel Datei zu finden."
   ]
  },
  {
   "cell_type": "code",
   "execution_count": 2,
   "metadata": {},
   "outputs": [],
   "source": [
    "maxRunTime = 180"
   ]
  },
  {
   "cell_type": "code",
   "execution_count": 3,
   "metadata": {},
   "outputs": [
    {
     "name": "stdout",
     "output_type": "stream",
     "text": [
      "Generating an initial solution according to HSF.\n",
      "Constructive solution found.\n",
      "Sequence [1, 15, 16, 25, 26, 27, 1] collects 70 score points in 405.01668504428994 time units\n",
      "Shake: Sequence [1, 15, 16, 31, 25, 26, 27, 1] collects 80 score points in 405.1751055319845 time units\n",
      "Reached local optimum of Insertion neighborhood. Stop local search.\n",
      "Reached local optimum of Swap neighborhood. Stop local search.\n",
      "New best Solution found, resetting k to 0.\n",
      "Shake: Sequence [1, 15, 16, 28, 31, 25, 26, 27, 1] collects 90 score points in 407.4281913645117 time units\n",
      "There was no feasible move in the Neighborhood.\n",
      "Reached local optimum of Insertion neighborhood. Stop local search.\n",
      "There was no feasible move in the Neighborhood.\n",
      "Reached local optimum of Swap neighborhood. Stop local search.\n",
      "New best Solution found, resetting k to 0.\n",
      "Shake: Sequence [1, 15, 16, 17, 28, 31, 25, 26, 27, 1] collects 100 score points in 408.67928683944865 time units\n",
      "There was no feasible move in the Neighborhood.\n",
      "Reached local optimum of Insertion neighborhood. Stop local search.\n",
      "There was no feasible move in the Neighborhood.\n",
      "Reached local optimum of Swap neighborhood. Stop local search.\n",
      "New best Solution found, resetting k to 0.\n",
      "Shake: Sequence [1, 18, 15, 16, 17, 28, 31, 25, 26, 27, 1] collects 105 score points in 409.78710830214413 time units\n",
      "There was no feasible move in the Neighborhood.\n",
      "Reached local optimum of Insertion neighborhood. Stop local search.\n",
      "There was no feasible move in the Neighborhood.\n",
      "Reached local optimum of Swap neighborhood. Stop local search.\n",
      "New best Solution found, resetting k to 0.\n",
      "Unable to shake due to empty Neighborhood\n",
      "No better solution found, incrementing k to 1.\n",
      "Shake: Sequence [1, 18, 15, 16, 17, 28, 31, 30, 26, 27, 1] collects 100 score points in 374.50700025601185 time units\n",
      "Time improvement made: 366.23221052962475\n",
      "Reached local optimum of Insertion neighborhood. Stop local search.\n",
      "Reached local optimum of Swap neighborhood. Stop local search.\n",
      "No better solution found, incrementing k to 2.\n",
      "Shake: Sequence [1, 18, 15, 16, 17, 28, 30, 31, 26, 19, 20, 1] collects 100 score points in 402.6254012181968 time units\n",
      "Time improvement made: 376.8665228745095\n",
      "Reached local optimum of Insertion neighborhood. Stop local search.\n",
      "Reached local optimum of Swap neighborhood. Stop local search.\n",
      "No better solution found, incrementing k to 3.\n",
      "RunTime: 0.12003087997436523 s\n",
      "Best found Solution.\n",
      "Sequence [1, 18, 15, 16, 17, 28, 31, 25, 26, 27, 1] collects 105 score points in 409.78710830214413 time units\n"
     ]
    }
   ],
   "source": [
    "data = InputData(\"Testinstanzen/Instance_1.json\")\n",
    "vns = VariableNeighborhoodSearch(data, maxRunTime)\n",
    "solver = Solver(data, 2048)\n",
    "solver.RunLocalSearch(constructiveSolutionMethod = \"HSF\", algorithm = vns)"
   ]
  },
  {
   "cell_type": "code",
   "execution_count": 4,
   "metadata": {},
   "outputs": [
    {
     "name": "stdout",
     "output_type": "stream",
     "text": [
      "Generating an initial solution according to HSF.\n",
      "Constructive solution found.\n",
      "Sequence [1, 15, 17, 8, 12, 1] collects 100 score points in 229.5941637876877 time units\n",
      "Shake: Sequence [1, 11, 15, 17, 8, 12, 1] collects 115 score points in 229.80957146083864 time units\n",
      "There was no feasible move in the Neighborhood.\n",
      "Reached local optimum of Insertion neighborhood. Stop local search.\n",
      "There was no feasible move in the Neighborhood.\n",
      "Reached local optimum of Swap neighborhood. Stop local search.\n",
      "New best Solution found, resetting k to 0.\n",
      "Shake: Sequence [1, 11, 9, 15, 17, 8, 12, 1] collects 135 score points in 229.85511641299155 time units\n",
      "There was no feasible move in the Neighborhood.\n",
      "Reached local optimum of Insertion neighborhood. Stop local search.\n",
      "There was no feasible move in the Neighborhood.\n",
      "Reached local optimum of Swap neighborhood. Stop local search.\n",
      "New best Solution found, resetting k to 0.\n",
      "Unable to shake due to empty Neighborhood\n",
      "No better solution found, incrementing k to 1.\n",
      "Shake: Sequence [1, 11, 9, 10, 17, 8, 12, 1] collects 115 score points in 227.23753863197572 time units\n",
      "Time improvement made: 190.74853069474074\n",
      "Reached local optimum of Insertion neighborhood. Stop local search.\n",
      "Reached local optimum of Swap neighborhood. Stop local search.\n",
      "No better solution found, incrementing k to 2.\n",
      "Shake: Sequence [1, 11, 10, 9, 13, 7, 8, 12, 1] collects 105 score points in 209.4908190829144 time units\n",
      "Time improvement made: 159.72171704193553\n",
      "Time improvement made: 140.4085497584712\n",
      "Time improvement made: 134.03633439880784\n",
      "Reached local optimum of Insertion neighborhood. Stop local search.\n",
      "Reached local optimum of Swap neighborhood. Stop local search.\n",
      "No better solution found, incrementing k to 3.\n",
      "RunTime: 0.031147003173828125 s\n",
      "Best found Solution.\n",
      "Sequence [1, 11, 9, 15, 17, 8, 12, 1] collects 135 score points in 229.85511641299155 time units\n"
     ]
    }
   ],
   "source": [
    "data = InputData(\"Testinstanzen/Instance_2.json\")\n",
    "vns = VariableNeighborhoodSearch(data, maxRunTime)\n",
    "solver = Solver(data, 2048)\n",
    "solver.RunLocalSearch(constructiveSolutionMethod = \"HSF\", algorithm = vns)"
   ]
  },
  {
   "cell_type": "code",
   "execution_count": 5,
   "metadata": {},
   "outputs": [
    {
     "name": "stdout",
     "output_type": "stream",
     "text": [
      "Generating an initial solution according to HSF.\n",
      "Constructive solution found.\n",
      "Sequence [1, 20, 21, 22, 14, 3, 23, 24, 1] collects 220 score points in 489.0212952041625 time units\n",
      "Shake: Sequence [1, 20, 21, 28, 22, 14, 3, 23, 24, 1] collects 230 score points in 489.7337117472855 time units\n",
      "Time improvement made: 436.14986331312105\n",
      "Time improvement made: 401.8400265373757\n",
      "Time improvement made: 392.11402521402937\n",
      "Time improvement made: 378.3104305385688\n",
      "Time improvement made: 371.54879981023964\n",
      "Reached local optimum of Insertion neighborhood. Stop local search.\n",
      "Reached local optimum of Swap neighborhood. Stop local search.\n",
      "No better solution found, incrementing k to 1.\n",
      "Shake: Sequence [1, 24, 22, 14, 27, 20, 21, 3, 23, 1] collects 230 score points in 408.6131703911252 time units\n",
      "Time improvement made: 372.0230432158314\n",
      "Reached local optimum of Insertion neighborhood. Stop local search.\n",
      "Reached local optimum of Swap neighborhood. Stop local search.\n",
      "No better solution found, incrementing k to 2.\n",
      "Shake: Sequence [1, 24, 22, 27, 14, 20, 21, 3, 6, 32, 1] collects 250 score points in 413.46882067756735 time units\n",
      "Time improvement made: 413.4330622968531\n",
      "Reached local optimum of Insertion neighborhood. Stop local search.\n",
      "Reached local optimum of Swap neighborhood. Stop local search.\n",
      "No better solution found, incrementing k to 3.\n",
      "RunTime: 0.11280298233032227 s\n",
      "Best found Solution.\n",
      "Sequence [1, 24, 22, 27, 14, 3, 20, 21, 6, 32, 1] collects 250 score points in 413.4330622968531 time units\n"
     ]
    }
   ],
   "source": [
    "data = InputData(\"Testinstanzen/Instance_3.json\")\n",
    "vns = VariableNeighborhoodSearch(data, maxRunTime)\n",
    "solver = Solver(data, 2048)\n",
    "solver.RunLocalSearch(constructiveSolutionMethod = \"HSF\", algorithm = vns)"
   ]
  },
  {
   "cell_type": "code",
   "execution_count": 6,
   "metadata": {},
   "outputs": [
    {
     "name": "stdout",
     "output_type": "stream",
     "text": [
      "Generating an initial solution according to HSF.\n",
      "Constructive solution found.\n",
      "Sequence [1, 87, 26, 65, 4, 43, 60, 77, 28, 93, 1] collects 800 score points in 10467.854892475307 time units\n",
      "Shake: Sequence [1, 87, 26, 65, 4, 43, 86, 60, 77, 28, 93, 1] collects 859 score points in 10468.263117394077 time units\n",
      "Time improvement made: 8012.557982897801\n",
      "Time improvement made: 7929.631246448039\n",
      "Time improvement made: 7879.073850586584\n",
      "Reached local optimum of Insertion neighborhood. Stop local search.\n",
      "Time improvement made: 7863.363067790961\n",
      "Reached local optimum of Swap neighborhood. Stop local search.\n",
      "No better solution found, incrementing k to 1.\n",
      "Shake: Sequence [1, 4, 65, 26, 75, 93, 87, 43, 86, 60, 77, 1] collects 786 score points in 7861.048134409983 time units\n",
      "Time improvement made: 7834.5161867641955\n",
      "Reached local optimum of Insertion neighborhood. Stop local search.\n",
      "Reached local optimum of Swap neighborhood. Stop local search.\n",
      "No better solution found, incrementing k to 2.\n",
      "Shake: Sequence [1, 75, 4, 65, 29, 51, 93, 87, 43, 86, 60, 77, 1] collects 733 score points in 10632.778780265373 time units\n",
      "Time improvement made: 8868.594156453499\n",
      "Time improvement made: 7465.570780420234\n",
      "Time improvement made: 7464.248415625235\n",
      "Reached local optimum of Insertion neighborhood. Stop local search.\n",
      "Reached local optimum of Swap neighborhood. Stop local search.\n",
      "No better solution found, incrementing k to 3.\n",
      "RunTime: 3.604342222213745 s\n",
      "Best found Solution.\n",
      "Sequence [1, 4, 65, 26, 28, 93, 87, 43, 86, 60, 77, 1] collects 859 score points in 7863.363067790961 time units\n"
     ]
    }
   ],
   "source": [
    "data = InputData(\"Testinstanzen/Instance_4.json\")\n",
    "vns = VariableNeighborhoodSearch(data, maxRunTime)\n",
    "solver = Solver(data, 2048)\n",
    "solver.RunLocalSearch(constructiveSolutionMethod = \"HSF\", algorithm = vns)"
   ]
  },
  {
   "cell_type": "code",
   "execution_count": 7,
   "metadata": {},
   "outputs": [
    {
     "name": "stdout",
     "output_type": "stream",
     "text": [
      "Generating an initial solution according to HSF.\n",
      "Constructive solution found.\n",
      "Sequence [1, 87, 26, 126, 65, 4, 104, 60, 116, 40, 85, 53, 1] collects 869 score points in 12952.814204302615 time units\n",
      "Shake: Sequence [1, 87, 26, 147, 126, 65, 4, 104, 60, 116, 40, 85, 53, 1] collects 929 score points in 12958.072436182569 time units\n",
      "Time improvement made: 10942.201861076825\n",
      "Time improvement made: 10299.494240887267\n",
      "Time improvement made: 9909.318882410289\n",
      "Time improvement made: 9745.446251237405\n",
      "Time improvement made: 9507.624013770963\n",
      "Time improvement made: 9456.878318913257\n",
      "Time improvement made: 9420.661324469627\n",
      "Time improvement made: 9376.774755426433\n",
      "Reached local optimum of Insertion neighborhood. Stop local search.\n",
      "Reached local optimum of Swap neighborhood. Stop local search.\n",
      "No better solution found, incrementing k to 1.\n",
      "Shake: Sequence [1, 53, 118, 87, 4, 116, 60, 126, 104, 147, 65, 40, 85, 1] collects 901 score points in 10388.566019270096 time units\n",
      "Time improvement made: 9813.406518995325\n",
      "Time improvement made: 9532.433066157124\n",
      "Time improvement made: 9197.95284987465\n",
      "Time improvement made: 9011.377541508311\n",
      "Reached local optimum of Insertion neighborhood. Stop local search.\n",
      "Reached local optimum of Swap neighborhood. Stop local search.\n",
      "No better solution found, incrementing k to 2.\n",
      "Shake: Sequence [1, 53, 40, 116, 60, 4, 87, 118, 126, 43, 102, 147, 65, 85, 1] collects 915 score points in 10839.411129686878 time units\n",
      "Time improvement made: 10510.938906608566\n",
      "Time improvement made: 10008.9911604291\n",
      "Reached local optimum of Insertion neighborhood. Stop local search.\n",
      "Reached local optimum of Swap neighborhood. Stop local search.\n",
      "No better solution found, incrementing k to 3.\n",
      "RunTime: 14.69580626487732 s\n",
      "Best found Solution.\n",
      "Sequence [1, 53, 26, 87, 4, 116, 60, 126, 104, 147, 65, 40, 85, 1] collects 929 score points in 9376.774755426433 time units\n"
     ]
    }
   ],
   "source": [
    "data = InputData(\"Testinstanzen/Instance_5.json\")\n",
    "vns = VariableNeighborhoodSearch(data, maxRunTime)\n",
    "solver = Solver(data, 2048)\n",
    "solver.RunLocalSearch(constructiveSolutionMethod = \"HSF\", algorithm = vns)"
   ]
  },
  {
   "cell_type": "code",
   "execution_count": 8,
   "metadata": {},
   "outputs": [
    {
     "name": "stdout",
     "output_type": "stream",
     "text": [
      "Generating an initial solution according to NNF.\n",
      "Constructive solution found.\n",
      "Sequence [1, 28, 18, 6, 7, 3, 2, 8, 9, 10, 11, 12, 21, 20, 19, 27, 31, 1] collects 125 score points in 390.7142789320446 time units\n",
      "Shake: Sequence [1, 28, 18, 6, 7, 3, 2, 8, 9, 10, 11, 12, 21, 20, 19, 27, 26, 31, 1] collects 140 score points in 409.68348386618857 time units\n",
      "Time improvement made: 400.89308389555765\n",
      "Time improvement made: 390.1936018771132\n",
      "Time improvement made: 388.0628174463123\n",
      "Reached local optimum of Insertion neighborhood. Stop local search.\n",
      "Reached local optimum of Swap neighborhood. Stop local search.\n",
      "No better solution found, incrementing k to 1.\n",
      "Shake: Sequence [1, 28, 18, 6, 7, 3, 2, 8, 9, 10, 11, 12, 21, 22, 31, 27, 20, 19, 1] collects 135 score points in 405.9848314358409 time units\n",
      "There was no feasible move in the Neighborhood.\n",
      "Reached local optimum of Insertion neighborhood. Stop local search.\n",
      "There was no feasible move in the Neighborhood.\n",
      "Reached local optimum of Swap neighborhood. Stop local search.\n",
      "No better solution found, incrementing k to 2.\n",
      "Unable to shake due to empty Neighborhood\n",
      "No better solution found, incrementing k to 3.\n",
      "RunTime: 0.1645808219909668 s\n",
      "Best found Solution.\n",
      "Sequence [1, 28, 18, 6, 7, 3, 2, 8, 9, 10, 11, 12, 21, 26, 31, 27, 20, 19, 1] collects 140 score points in 388.0628174463123 time units\n"
     ]
    }
   ],
   "source": [
    "data = InputData(\"Testinstanzen/Instance_1.json\")\n",
    "vns = VariableNeighborhoodSearch(data, maxRunTime)\n",
    "solver = Solver(data, 2048)\n",
    "solver.RunLocalSearch(constructiveSolutionMethod = \"NNF\", algorithm = vns)"
   ]
  },
  {
   "cell_type": "code",
   "execution_count": 9,
   "metadata": {},
   "outputs": [
    {
     "name": "stdout",
     "output_type": "stream",
     "text": [
      "Generating an initial solution according to NNF.\n",
      "Constructive solution found.\n",
      "Sequence [1, 13, 11, 12, 7, 6, 5, 3, 2, 8, 9, 10, 14, 1] collects 200 score points in 212.8594231979497 time units\n",
      "Unable to shake due to empty Neighborhood\n",
      "No better solution found, incrementing k to 1.\n",
      "Unable to shake due to empty Neighborhood\n",
      "No better solution found, incrementing k to 2.\n",
      "Unable to shake due to empty Neighborhood\n",
      "No better solution found, incrementing k to 3.\n",
      "RunTime: 0.017554044723510742 s\n",
      "Best found Solution.\n",
      "Sequence [1, 13, 11, 12, 7, 6, 5, 3, 2, 8, 9, 10, 14, 1] collects 200 score points in 212.8594231979497 time units\n"
     ]
    }
   ],
   "source": [
    "data = InputData(\"Testinstanzen/Instance_2.json\")\n",
    "vns = VariableNeighborhoodSearch(data, maxRunTime)\n",
    "solver = Solver(data, 2048)\n",
    "solver.RunLocalSearch(constructiveSolutionMethod = \"NNF\", algorithm = vns)"
   ]
  },
  {
   "cell_type": "code",
   "execution_count": 10,
   "metadata": {},
   "outputs": [
    {
     "name": "stdout",
     "output_type": "stream",
     "text": [
      "Generating an initial solution according to NNF.\n",
      "Constructive solution found.\n",
      "Sequence [1, 24, 23, 27, 14, 28, 4, 3, 6, 2, 8, 31, 12, 29, 26, 32, 30, 11, 1] collects 310 score points in 482.544383354851 time units\n",
      "Unable to shake due to empty Neighborhood\n",
      "No better solution found, incrementing k to 1.\n",
      "Shake: Sequence [1, 24, 23, 27, 14, 28, 4, 3, 6, 2, 8, 31, 12, 29, 26, 32, 30, 25, 1] collects 290 score points in 423.2405338805338 time units\n",
      "Time improvement made: 414.1943796651715\n",
      "Time improvement made: 413.60425013487986\n",
      "Reached local optimum of Insertion neighborhood. Stop local search.\n",
      "Reached local optimum of Swap neighborhood. Stop local search.\n",
      "No better solution found, incrementing k to 2.\n",
      "Shake: Sequence [1, 23, 27, 22, 5, 28, 4, 3, 6, 2, 8, 31, 12, 29, 30, 26, 32, 25, 24, 1] collects 330 score points in 465.275628554297 time units\n",
      "Time improvement made: 461.77479693778304\n",
      "Reached local optimum of Insertion neighborhood. Stop local search.\n",
      "Reached local optimum of Swap neighborhood. Stop local search.\n",
      "No better solution found, incrementing k to 3.\n",
      "RunTime: 0.206773042678833 s\n",
      "Best found Solution.\n",
      "Sequence [1, 23, 27, 5, 28, 4, 3, 6, 2, 8, 31, 12, 29, 30, 26, 32, 25, 22, 24, 1] collects 330 score points in 461.77479693778304 time units\n"
     ]
    }
   ],
   "source": [
    "data = InputData(\"Testinstanzen/Instance_3.json\")\n",
    "vns = VariableNeighborhoodSearch(data, maxRunTime)\n",
    "solver = Solver(data, 2048)\n",
    "solver.RunLocalSearch(constructiveSolutionMethod = \"NNF\", algorithm = vns)"
   ]
  },
  {
   "cell_type": "code",
   "execution_count": 11,
   "metadata": {},
   "outputs": [
    {
     "name": "stdout",
     "output_type": "stream",
     "text": [
      "Generating an initial solution according to NNF.\n",
      "Constructive solution found.\n",
      "Sequence [1, 63, 6, 49, 90, 10, 84, 72, 21, 74, 59, 17, 15, 11, 32, 91, 98, 23, 45, 47, 93, 28, 67, 58, 61, 25, 81, 69, 73, 50, 44, 2, 54, 40, 64, 68, 85, 39, 1] collects 1949 score points in 10345.062827513684 time units\n",
      "Shake: Sequence [1, 63, 6, 49, 90, 10, 84, 72, 21, 74, 59, 17, 15, 11, 32, 91, 98, 23, 45, 47, 93, 28, 67, 58, 61, 25, 81, 69, 73, 50, 44, 2, 54, 40, 64, 68, 85, 39, 87, 1] collects 2049 score points in 10504.490697411231 time units\n",
      "Time improvement made: 10397.751843545362\n",
      "Time improvement made: 10357.932287649504\n",
      "Time improvement made: 10345.195091353708\n",
      "Time improvement made: 10301.055931318459\n",
      "Time improvement made: 10215.27247500328\n",
      "Time improvement made: 10206.13089307518\n",
      "Reached local optimum of Insertion neighborhood. Stop local search.\n",
      "Reached local optimum of Swap neighborhood. Stop local search.\n",
      "No better solution found, incrementing k to 1.\n",
      "Shake: Sequence [1, 63, 6, 49, 90, 10, 84, 72, 21, 74, 59, 17, 15, 11, 32, 45, 23, 98, 91, 47, 93, 28, 58, 61, 25, 81, 73, 50, 44, 2, 54, 40, 64, 69, 68, 39, 85, 87, 62, 1] collects 2044 score points in 10576.44841396663 time units\n",
      "Time improvement made: 10509.129095110671\n",
      "Time improvement made: 10425.434699758729\n",
      "Time improvement made: 10290.70481785783\n",
      "Reached local optimum of Insertion neighborhood. Stop local search.\n",
      "Reached local optimum of Swap neighborhood. Stop local search.\n",
      "No better solution found, incrementing k to 2.\n",
      "Shake: Sequence [1, 63, 6, 49, 90, 10, 84, 72, 21, 74, 59, 17, 15, 11, 32, 45, 91, 93, 28, 58, 61, 25, 81, 73, 50, 44, 2, 54, 40, 64, 69, 68, 39, 85, 12, 20, 62, 23, 98, 47, 1] collects 2022 score points in 10395.636310759257 time units\n",
      "Time improvement made: 10315.2404617128\n",
      "Reached local optimum of Insertion neighborhood. Stop local search.\n",
      "Reached local optimum of Swap neighborhood. Stop local search.\n",
      "No better solution found, incrementing k to 3.\n",
      "RunTime: 16.446645975112915 s\n",
      "Best found Solution.\n",
      "Sequence [1, 63, 6, 49, 90, 10, 84, 72, 21, 74, 59, 17, 15, 11, 32, 45, 23, 98, 91, 47, 93, 28, 58, 61, 25, 81, 73, 50, 44, 2, 54, 40, 64, 69, 68, 39, 85, 87, 67, 1] collects 2049 score points in 10206.13089307518 time units\n"
     ]
    }
   ],
   "source": [
    "data = InputData(\"Testinstanzen/Instance_4.json\")\n",
    "vns = VariableNeighborhoodSearch(data, maxRunTime)\n",
    "solver = Solver(data, 2048)\n",
    "solver.RunLocalSearch(constructiveSolutionMethod = \"NNF\", algorithm = vns)"
   ]
  },
  {
   "cell_type": "code",
   "execution_count": 12,
   "metadata": {},
   "outputs": [
    {
     "name": "stdout",
     "output_type": "stream",
     "text": [
      "Generating an initial solution according to NNF.\n",
      "Constructive solution found.\n",
      "Sequence [1, 53, 85, 27, 15, 13, 79, 110, 64, 20, 55, 42, 67, 31, 47, 6, 149, 54, 134, 75, 22, 112, 8, 106, 17, 25, 90, 34, 145, 109, 98, 148, 88, 28, 39, 38, 71, 124, 72, 83, 62, 138, 113, 108, 114, 126, 101, 56, 119, 5, 43, 86, 133, 50, 95, 94, 123, 91, 70, 111, 121, 76, 131, 139, 21, 122, 89, 41, 59, 1] collects 3464 score points in 12904.561800253723 time units\n",
      "Shake: Sequence [1, 53, 85, 27, 15, 13, 79, 110, 64, 20, 55, 42, 67, 31, 47, 6, 149, 54, 134, 75, 22, 112, 8, 106, 17, 25, 90, 34, 145, 109, 98, 148, 88, 28, 39, 38, 71, 124, 72, 83, 62, 138, 113, 108, 114, 126, 101, 56, 119, 5, 43, 86, 133, 50, 95, 94, 123, 91, 70, 111, 121, 76, 131, 139, 21, 122, 89, 41, 59, 140, 1] collects 3537 score points in 12909.470390698416 time units\n",
      "Time improvement made: 12783.330156875187\n",
      "Time improvement made: 12659.285505719672\n",
      "Time improvement made: 12558.352740490162\n",
      "Time improvement made: 12504.847805712187\n",
      "Time improvement made: 12483.34075035396\n",
      "Time improvement made: 12475.846322663634\n",
      "Time improvement made: 12470.775694720887\n",
      "Reached local optimum of Insertion neighborhood. Stop local search.\n",
      "Reached local optimum of Swap neighborhood. Stop local search.\n",
      "No better solution found, incrementing k to 1.\n",
      "Shake: Sequence [1, 85, 15, 13, 79, 110, 20, 64, 42, 55, 67, 31, 47, 149, 6, 54, 134, 75, 22, 112, 8, 106, 114, 17, 25, 90, 34, 145, 109, 98, 148, 88, 28, 38, 71, 124, 72, 83, 62, 138, 113, 108, 126, 39, 101, 56, 119, 5, 43, 86, 133, 50, 95, 94, 123, 91, 70, 111, 121, 76, 131, 139, 21, 122, 89, 41, 59, 140, 116, 53, 1] collects 3586 score points in 12413.084247952316 time units\n",
      "Reached local optimum of Insertion neighborhood. Stop local search.\n",
      "Reached local optimum of Swap neighborhood. Stop local search.\n",
      "New best Solution found, resetting k to 0.\n",
      "Shake: Sequence [1, 85, 15, 13, 79, 110, 20, 64, 42, 55, 67, 31, 47, 149, 6, 54, 134, 75, 22, 112, 8, 106, 114, 17, 25, 90, 34, 145, 58, 109, 98, 148, 88, 28, 38, 71, 124, 72, 83, 62, 138, 113, 108, 126, 39, 101, 56, 119, 5, 43, 86, 133, 50, 95, 94, 123, 91, 70, 111, 121, 76, 131, 139, 21, 122, 89, 41, 59, 140, 116, 53, 1] collects 3597 score points in 12733.61194868225 time units\n",
      "Time improvement made: 12705.457188070635\n",
      "Reached local optimum of Insertion neighborhood. Stop local search.\n",
      "Reached local optimum of Swap neighborhood. Stop local search.\n",
      "No better solution found, incrementing k to 1.\n",
      "Shake: Sequence [1, 85, 15, 13, 79, 110, 20, 64, 42, 55, 67, 31, 47, 149, 6, 54, 134, 75, 22, 112, 8, 106, 114, 17, 25, 90, 34, 145, 109, 58, 98, 148, 88, 28, 38, 71, 124, 72, 83, 62, 138, 113, 108, 126, 39, 101, 56, 119, 5, 43, 86, 133, 50, 95, 94, 123, 91, 70, 111, 121, 76, 131, 139, 21, 122, 89, 41, 59, 140, 116, 125, 1] collects 3649 score points in 13060.10509935796 time units\n",
      "There was no feasible move in the Neighborhood.\n",
      "Reached local optimum of Insertion neighborhood. Stop local search.\n",
      "There was no feasible move in the Neighborhood.\n",
      "Reached local optimum of Swap neighborhood. Stop local search.\n",
      "New best Solution found, resetting k to 0.\n",
      "Shake: Sequence [1, 85, 15, 13, 79, 110, 20, 64, 42, 55, 67, 31, 47, 149, 6, 54, 134, 75, 22, 112, 8, 106, 114, 17, 25, 90, 34, 145, 109, 58, 98, 148, 88, 28, 38, 71, 124, 72, 83, 62, 138, 113, 108, 126, 39, 101, 56, 119, 5, 43, 86, 133, 50, 95, 94, 123, 91, 70, 111, 121, 76, 131, 139, 21, 122, 89, 41, 59, 140, 116, 12, 125, 1] collects 3674 score points in 13060.266539850878 time units\n",
      "There was no feasible move in the Neighborhood.\n",
      "Reached local optimum of Insertion neighborhood. Stop local search.\n",
      "There was no feasible move in the Neighborhood.\n",
      "Reached local optimum of Swap neighborhood. Stop local search.\n",
      "New best Solution found, resetting k to 0.\n",
      "Shake: Sequence [1, 85, 15, 13, 79, 110, 20, 64, 42, 55, 67, 31, 47, 149, 6, 54, 134, 75, 22, 112, 8, 106, 114, 17, 25, 90, 34, 145, 109, 58, 98, 148, 88, 28, 38, 71, 124, 72, 83, 62, 138, 113, 108, 126, 39, 101, 56, 119, 5, 43, 86, 133, 50, 95, 94, 123, 91, 70, 111, 121, 76, 131, 139, 21, 122, 89, 41, 59, 140, 60, 116, 12, 125, 1] collects 3767 score points in 13060.270792154046 time units\n",
      "There was no feasible move in the Neighborhood.\n",
      "Reached local optimum of Insertion neighborhood. Stop local search.\n",
      "There was no feasible move in the Neighborhood.\n",
      "Reached local optimum of Swap neighborhood. Stop local search.\n",
      "New best Solution found, resetting k to 0.\n",
      "Shake: Sequence [1, 85, 15, 13, 79, 110, 20, 64, 42, 55, 67, 31, 47, 149, 6, 54, 134, 75, 22, 112, 8, 106, 114, 17, 25, 90, 34, 145, 109, 58, 98, 148, 88, 28, 38, 71, 124, 72, 83, 62, 138, 113, 108, 126, 39, 101, 56, 119, 5, 43, 86, 133, 50, 95, 94, 123, 91, 70, 111, 121, 76, 131, 139, 21, 122, 89, 41, 59, 140, 60, 116, 12, 125, 53, 1] collects 3773 score points in 13060.669856012604 time units\n",
      "There was no feasible move in the Neighborhood.\n",
      "Reached local optimum of Insertion neighborhood. Stop local search.\n",
      "There was no feasible move in the Neighborhood.\n",
      "Reached local optimum of Swap neighborhood. Stop local search.\n",
      "New best Solution found, resetting k to 0.\n",
      "Unable to shake due to empty Neighborhood\n",
      "No better solution found, incrementing k to 1.\n",
      "Shake: Sequence [1, 85, 15, 13, 79, 110, 20, 64, 42, 55, 67, 31, 47, 149, 6, 54, 134, 75, 22, 112, 8, 106, 114, 17, 25, 90, 34, 145, 109, 58, 98, 148, 88, 28, 38, 71, 124, 72, 83, 62, 138, 113, 108, 126, 39, 101, 56, 119, 5, 43, 86, 133, 50, 95, 94, 123, 91, 70, 111, 121, 76, 131, 139, 21, 122, 89, 41, 59, 140, 60, 116, 12, 40, 53, 1] collects 3788 score points in 12863.964653066072 time units\n",
      "Reached local optimum of Insertion neighborhood. Stop local search.\n",
      "Reached local optimum of Swap neighborhood. Stop local search.\n",
      "New best Solution found, resetting k to 0.\n",
      "Shake: Sequence [1, 85, 27, 15, 13, 79, 110, 20, 64, 42, 55, 67, 31, 47, 149, 6, 54, 134, 75, 22, 112, 8, 106, 114, 17, 25, 90, 34, 145, 109, 58, 98, 148, 88, 28, 38, 71, 124, 72, 83, 62, 138, 113, 108, 126, 39, 101, 56, 119, 5, 43, 86, 133, 50, 95, 94, 123, 91, 70, 111, 121, 76, 131, 139, 21, 122, 89, 41, 59, 140, 60, 116, 12, 40, 53, 1] collects 3828 score points in 13063.028073988706 time units\n",
      "There was no feasible move in the Neighborhood.\n",
      "Reached local optimum of Insertion neighborhood. Stop local search.\n",
      "There was no feasible move in the Neighborhood.\n",
      "Reached local optimum of Swap neighborhood. Stop local search.\n",
      "New best Solution found, resetting k to 0.\n",
      "Unable to shake due to empty Neighborhood\n",
      "No better solution found, incrementing k to 1.\n",
      "Unable to shake due to empty Neighborhood\n",
      "No better solution found, incrementing k to 2.\n",
      "Unable to shake due to empty Neighborhood\n",
      "No better solution found, incrementing k to 3.\n",
      "RunTime: 120.74980306625366 s\n",
      "Best found Solution.\n",
      "Sequence [1, 85, 27, 15, 13, 79, 110, 20, 64, 42, 55, 67, 31, 47, 149, 6, 54, 134, 75, 22, 112, 8, 106, 114, 17, 25, 90, 34, 145, 109, 58, 98, 148, 88, 28, 38, 71, 124, 72, 83, 62, 138, 113, 108, 126, 39, 101, 56, 119, 5, 43, 86, 133, 50, 95, 94, 123, 91, 70, 111, 121, 76, 131, 139, 21, 122, 89, 41, 59, 140, 60, 116, 12, 40, 53, 1] collects 3828 score points in 13063.028073988706 time units\n"
     ]
    }
   ],
   "source": [
    "data = InputData(\"Testinstanzen/Instance_5.json\")\n",
    "vns = VariableNeighborhoodSearch(data, maxRunTime)\n",
    "solver = Solver(data, 2048)\n",
    "solver.RunLocalSearch(constructiveSolutionMethod = \"NNF\", algorithm = vns)"
   ]
  },
  {
   "cell_type": "code",
   "execution_count": 13,
   "metadata": {},
   "outputs": [
    {
     "name": "stdout",
     "output_type": "stream",
     "text": [
      "Generating an initial solution according to HSF.\n",
      "Constructive solution found.\n",
      "Sequence [1, 15, 16, 25, 26, 27, 1] collects 70 score points in 405.01668504428994 time units\n",
      "Unable to shake due to empty Neighborhood\n",
      "No better solution found, incrementing k to 1.\n",
      "Shake: Sequence [1, 15, 16, 22, 26, 27, 1] collects 65 score points in 374.8149045556144 time units\n",
      "Reached local optimum of Insertion neighborhood. Stop local search.\n",
      "Time improvement made: 369.294090581462\n",
      "Reached local optimum of Swap neighborhood. Stop local search.\n",
      "No better solution found, incrementing k to 2.\n",
      "Unable to shake due to empty Neighborhood\n",
      "No better solution found, incrementing k to 3.\n",
      "RunTime: 0.008006095886230469 s\n",
      "Best found Solution.\n",
      "Sequence [1, 15, 16, 25, 26, 27, 1] collects 70 score points in 405.01668504428994 time units\n"
     ]
    }
   ],
   "source": [
    "data = InputData(\"Testinstanzen/Instance_1.json\")\n",
    "vns = VariableNeighborhoodSearch(data, maxRunTime)\n",
    "vns.NeighborhoodEvaluationStrategy = \"FirstImprovement\"\n",
    "solver = Solver(data, 2048)\n",
    "solver.RunLocalSearch(constructiveSolutionMethod = \"HSF\", algorithm = vns)"
   ]
  },
  {
   "cell_type": "code",
   "execution_count": 14,
   "metadata": {},
   "outputs": [
    {
     "name": "stdout",
     "output_type": "stream",
     "text": [
      "Generating an initial solution according to HSF.\n",
      "Constructive solution found.\n",
      "Sequence [1, 15, 17, 8, 12, 1] collects 100 score points in 229.5941637876877 time units\n",
      "Unable to shake due to empty Neighborhood\n",
      "No better solution found, incrementing k to 1.\n",
      "Shake: Sequence [1, 2, 17, 8, 12, 1] collects 80 score points in 196.9030123767962 time units\n",
      "Reached local optimum of Insertion neighborhood. Stop local search.\n",
      "Reached local optimum of Swap neighborhood. Stop local search.\n",
      "No better solution found, incrementing k to 2.\n",
      "Unable to shake due to empty Neighborhood\n",
      "No better solution found, incrementing k to 3.\n",
      "RunTime: 0.0015881061553955078 s\n",
      "Best found Solution.\n",
      "Sequence [1, 15, 17, 8, 12, 1] collects 100 score points in 229.5941637876877 time units\n"
     ]
    }
   ],
   "source": [
    "data = InputData(\"Testinstanzen/Instance_2.json\")\n",
    "vns = VariableNeighborhoodSearch(data, maxRunTime)\n",
    "vns.NeighborhoodEvaluationStrategy = \"FirstImprovement\"\n",
    "solver = Solver(data, 2048)\n",
    "solver.RunLocalSearch(constructiveSolutionMethod = \"HSF\", algorithm = vns)"
   ]
  },
  {
   "cell_type": "code",
   "execution_count": 15,
   "metadata": {},
   "outputs": [
    {
     "name": "stdout",
     "output_type": "stream",
     "text": [
      "Generating an initial solution according to HSF.\n",
      "Constructive solution found.\n",
      "Sequence [1, 20, 21, 22, 14, 3, 23, 24, 1] collects 220 score points in 489.0212952041625 time units\n",
      "Unable to shake due to empty Neighborhood\n",
      "No better solution found, incrementing k to 1.\n",
      "Shake: Sequence [1, 20, 21, 2, 14, 3, 23, 24, 1] collects 190 score points in 461.0524544617568 time units\n",
      "Time improvement made: 403.99488976569495\n",
      "Time improvement made: 396.134424319579\n",
      "Time improvement made: 392.6959830069441\n",
      "Reached local optimum of Insertion neighborhood. Stop local search.\n",
      "Reached local optimum of Swap neighborhood. Stop local search.\n",
      "No better solution found, incrementing k to 2.\n",
      "Shake: Sequence [1, 24, 14, 20, 21, 3, 2, 4, 7, 1] collects 220 score points in 467.2919804003784 time units\n",
      "Time improvement made: 455.7200102025819\n",
      "Time improvement made: 447.1114789190008\n",
      "Time improvement made: 441.1714110112901\n",
      "Time improvement made: 429.6229500489683\n",
      "Reached local optimum of Insertion neighborhood. Stop local search.\n",
      "Reached local optimum of Swap neighborhood. Stop local search.\n",
      "No better solution found, incrementing k to 3.\n",
      "RunTime: 0.01382303237915039 s\n",
      "Best found Solution.\n",
      "Sequence [1, 24, 7, 14, 4, 20, 21, 3, 2, 1] collects 220 score points in 429.6229500489683 time units\n"
     ]
    }
   ],
   "source": [
    "data = InputData(\"Testinstanzen/Instance_3.json\")\n",
    "vns = VariableNeighborhoodSearch(data, maxRunTime)\n",
    "vns.NeighborhoodEvaluationStrategy = \"FirstImprovement\"\n",
    "solver = Solver(data, 2048)\n",
    "solver.RunLocalSearch(constructiveSolutionMethod = \"HSF\", algorithm = vns)"
   ]
  },
  {
   "cell_type": "code",
   "execution_count": 16,
   "metadata": {},
   "outputs": [
    {
     "name": "stdout",
     "output_type": "stream",
     "text": [
      "Generating an initial solution according to HSF.\n",
      "Constructive solution found.\n",
      "Sequence [1, 87, 26, 65, 4, 43, 60, 77, 28, 93, 1] collects 800 score points in 10467.854892475307 time units\n",
      "Unable to shake due to empty Neighborhood\n",
      "No better solution found, incrementing k to 1.\n",
      "Shake: Sequence [1, 87, 26, 65, 4, 43, 3, 77, 28, 93, 1] collects 763 score points in 10472.652111103613 time units\n",
      "Time improvement made: 8016.946976607338\n",
      "Time improvement made: 7934.020240157576\n",
      "Time improvement made: 7869.969633408441\n",
      "Time improvement made: 7819.412237546986\n",
      "Reached local optimum of Insertion neighborhood. Stop local search.\n",
      "Time improvement made: 7803.701454751364\n",
      "Reached local optimum of Swap neighborhood. Stop local search.\n",
      "No better solution found, incrementing k to 2.\n",
      "Shake: Sequence [1, 4, 65, 26, 28, 93, 87, 2, 5, 43, 77, 1] collects 760 score points in 10280.875118047861 time units\n",
      "Time improvement made: 9875.146333280325\n",
      "Time improvement made: 9855.957546069672\n",
      "Reached local optimum of Insertion neighborhood. Stop local search.\n",
      "Reached local optimum of Swap neighborhood. Stop local search.\n",
      "No better solution found, incrementing k to 3.\n",
      "RunTime: 0.15394186973571777 s\n",
      "Best found Solution.\n",
      "Sequence [1, 87, 26, 65, 4, 43, 60, 77, 28, 93, 1] collects 800 score points in 10467.854892475307 time units\n"
     ]
    }
   ],
   "source": [
    "data = InputData(\"Testinstanzen/Instance_4.json\")\n",
    "vns = VariableNeighborhoodSearch(data, maxRunTime)\n",
    "vns.NeighborhoodEvaluationStrategy = \"FirstImprovement\"\n",
    "solver = Solver(data, 2048)\n",
    "solver.RunLocalSearch(constructiveSolutionMethod = \"HSF\", algorithm = vns)"
   ]
  },
  {
   "cell_type": "code",
   "execution_count": 17,
   "metadata": {},
   "outputs": [
    {
     "name": "stdout",
     "output_type": "stream",
     "text": [
      "Generating an initial solution according to HSF.\n",
      "Constructive solution found.\n",
      "Sequence [1, 87, 26, 126, 65, 4, 104, 60, 116, 40, 85, 53, 1] collects 869 score points in 12952.814204302615 time units\n",
      "Unable to shake due to empty Neighborhood\n",
      "No better solution found, incrementing k to 1.\n",
      "Shake: Sequence [1, 87, 26, 126, 65, 2, 104, 60, 116, 40, 85, 53, 1] collects 787 score points in 11909.58080085582 time units\n",
      "Time improvement made: 10830.232849930135\n",
      "Time improvement made: 10218.5944199756\n",
      "Time improvement made: 9758.648487048518\n",
      "Time improvement made: 9610.203775073185\n",
      "Time improvement made: 9478.198659041625\n",
      "Time improvement made: 9427.45296418392\n",
      "Reached local optimum of Insertion neighborhood. Stop local search.\n",
      "Reached local optimum of Swap neighborhood. Stop local search.\n",
      "No better solution found, incrementing k to 2.\n",
      "Shake: Sequence [1, 3, 4, 26, 87, 116, 60, 2, 126, 104, 65, 40, 85, 1] collects 934 score points in 12434.250797492221 time units\n",
      "Time improvement made: 11355.619834974743\n",
      "Time improvement made: 10235.958711128951\n",
      "Reached local optimum of Insertion neighborhood. Stop local search.\n",
      "Reached local optimum of Swap neighborhood. Stop local search.\n",
      "No better solution found, incrementing k to 3.\n",
      "RunTime: 0.468325138092041 s\n",
      "Best found Solution.\n",
      "Sequence [1, 26, 87, 4, 116, 60, 3, 2, 126, 104, 65, 40, 85, 1] collects 934 score points in 10235.958711128951 time units\n"
     ]
    }
   ],
   "source": [
    "data = InputData(\"Testinstanzen/Instance_5.json\")\n",
    "vns = VariableNeighborhoodSearch(data, maxRunTime)\n",
    "vns.NeighborhoodEvaluationStrategy = \"FirstImprovement\"\n",
    "solver = Solver(data, 2048)\n",
    "solver.RunLocalSearch(constructiveSolutionMethod = \"HSF\", algorithm = vns)"
   ]
  },
  {
   "cell_type": "code",
   "execution_count": 18,
   "metadata": {},
   "outputs": [
    {
     "name": "stdout",
     "output_type": "stream",
     "text": [
      "Generating an initial solution according to NNF.\n",
      "Constructive solution found.\n",
      "Sequence [1, 28, 18, 6, 7, 3, 2, 8, 9, 10, 11, 12, 21, 20, 19, 27, 31, 1] collects 125 score points in 390.7142789320446 time units\n",
      "Unable to shake due to empty Neighborhood\n",
      "No better solution found, incrementing k to 1.\n",
      "Unable to shake due to empty Neighborhood\n",
      "No better solution found, incrementing k to 2.\n",
      "Unable to shake due to empty Neighborhood\n",
      "No better solution found, incrementing k to 3.\n",
      "RunTime: 0.0035636425018310547 s\n",
      "Best found Solution.\n",
      "Sequence [1, 28, 18, 6, 7, 3, 2, 8, 9, 10, 11, 12, 21, 20, 19, 27, 31, 1] collects 125 score points in 390.7142789320446 time units\n"
     ]
    }
   ],
   "source": [
    "data = InputData(\"Testinstanzen/Instance_1.json\")\n",
    "vns = VariableNeighborhoodSearch(data, maxRunTime)\n",
    "vns.NeighborhoodEvaluationStrategy = \"FirstImprovement\"\n",
    "solver = Solver(data, 2048)\n",
    "solver.RunLocalSearch(constructiveSolutionMethod = \"NNF\", algorithm = vns)"
   ]
  },
  {
   "cell_type": "code",
   "execution_count": 19,
   "metadata": {},
   "outputs": [
    {
     "name": "stdout",
     "output_type": "stream",
     "text": [
      "Generating an initial solution according to NNF.\n",
      "Constructive solution found.\n",
      "Sequence [1, 13, 11, 12, 7, 6, 5, 3, 2, 8, 9, 10, 14, 1] collects 200 score points in 212.8594231979497 time units\n",
      "Unable to shake due to empty Neighborhood\n",
      "No better solution found, incrementing k to 1.\n",
      "Unable to shake due to empty Neighborhood\n",
      "No better solution found, incrementing k to 2.\n",
      "Unable to shake due to empty Neighborhood\n",
      "No better solution found, incrementing k to 3.\n",
      "RunTime: 0.001077890396118164 s\n",
      "Best found Solution.\n",
      "Sequence [1, 13, 11, 12, 7, 6, 5, 3, 2, 8, 9, 10, 14, 1] collects 200 score points in 212.8594231979497 time units\n"
     ]
    }
   ],
   "source": [
    "data = InputData(\"Testinstanzen/Instance_2.json\")\n",
    "vns = VariableNeighborhoodSearch(data, maxRunTime)\n",
    "vns.NeighborhoodEvaluationStrategy = \"FirstImprovement\"\n",
    "solver = Solver(data, 2048)\n",
    "solver.RunLocalSearch(constructiveSolutionMethod = \"NNF\", algorithm = vns)"
   ]
  },
  {
   "cell_type": "code",
   "execution_count": 20,
   "metadata": {},
   "outputs": [
    {
     "name": "stdout",
     "output_type": "stream",
     "text": [
      "Generating an initial solution according to NNF.\n",
      "Constructive solution found.\n",
      "Sequence [1, 24, 23, 27, 14, 28, 4, 3, 6, 2, 8, 31, 12, 29, 26, 32, 30, 11, 1] collects 310 score points in 482.544383354851 time units\n",
      "Unable to shake due to empty Neighborhood\n",
      "No better solution found, incrementing k to 1.\n",
      "Unable to shake due to empty Neighborhood\n",
      "No better solution found, incrementing k to 2.\n",
      "Unable to shake due to empty Neighborhood\n",
      "No better solution found, incrementing k to 3.\n",
      "RunTime: 0.0037500858306884766 s\n",
      "Best found Solution.\n",
      "Sequence [1, 24, 23, 27, 14, 28, 4, 3, 6, 2, 8, 31, 12, 29, 26, 32, 30, 11, 1] collects 310 score points in 482.544383354851 time units\n"
     ]
    }
   ],
   "source": [
    "data = InputData(\"Testinstanzen/Instance_3.json\")\n",
    "vns = VariableNeighborhoodSearch(data, maxRunTime)\n",
    "vns.NeighborhoodEvaluationStrategy = \"FirstImprovement\"\n",
    "solver = Solver(data, 2048)\n",
    "solver.RunLocalSearch(constructiveSolutionMethod = \"NNF\", algorithm = vns)"
   ]
  },
  {
   "cell_type": "code",
   "execution_count": 21,
   "metadata": {},
   "outputs": [
    {
     "name": "stdout",
     "output_type": "stream",
     "text": [
      "Generating an initial solution according to NNF.\n",
      "Constructive solution found.\n",
      "Sequence [1, 63, 6, 49, 90, 10, 84, 72, 21, 74, 59, 17, 15, 11, 32, 91, 98, 23, 45, 47, 93, 28, 67, 58, 61, 25, 81, 69, 73, 50, 44, 2, 54, 40, 64, 68, 85, 39, 1] collects 1949 score points in 10345.062827513684 time units\n",
      "Unable to shake due to empty Neighborhood\n",
      "No better solution found, incrementing k to 1.\n",
      "Unable to shake due to empty Neighborhood\n",
      "No better solution found, incrementing k to 2.\n",
      "Unable to shake due to empty Neighborhood\n",
      "No better solution found, incrementing k to 3.\n",
      "RunTime: 0.3008589744567871 s\n",
      "Best found Solution.\n",
      "Sequence [1, 63, 6, 49, 90, 10, 84, 72, 21, 74, 59, 17, 15, 11, 32, 91, 98, 23, 45, 47, 93, 28, 67, 58, 61, 25, 81, 69, 73, 50, 44, 2, 54, 40, 64, 68, 85, 39, 1] collects 1949 score points in 10345.062827513684 time units\n"
     ]
    }
   ],
   "source": [
    "data = InputData(\"Testinstanzen/Instance_4.json\")\n",
    "vns = VariableNeighborhoodSearch(data, maxRunTime)\n",
    "vns.NeighborhoodEvaluationStrategy = \"FirstImprovement\"\n",
    "solver = Solver(data, 2048)\n",
    "solver.RunLocalSearch(constructiveSolutionMethod = \"NNF\", algorithm = vns)"
   ]
  },
  {
   "cell_type": "code",
   "execution_count": 22,
   "metadata": {},
   "outputs": [
    {
     "name": "stdout",
     "output_type": "stream",
     "text": [
      "Generating an initial solution according to NNF.\n",
      "Constructive solution found.\n",
      "Sequence [1, 53, 85, 27, 15, 13, 79, 110, 64, 20, 55, 42, 67, 31, 47, 6, 149, 54, 134, 75, 22, 112, 8, 106, 17, 25, 90, 34, 145, 109, 98, 148, 88, 28, 39, 38, 71, 124, 72, 83, 62, 138, 113, 108, 114, 126, 101, 56, 119, 5, 43, 86, 133, 50, 95, 94, 123, 91, 70, 111, 121, 76, 131, 139, 21, 122, 89, 41, 59, 1] collects 3464 score points in 12904.561800253723 time units\n",
      "Unable to shake due to empty Neighborhood\n",
      "No better solution found, incrementing k to 1.\n",
      "Unable to shake due to empty Neighborhood\n",
      "No better solution found, incrementing k to 2.\n",
      "Unable to shake due to empty Neighborhood\n",
      "No better solution found, incrementing k to 3.\n",
      "RunTime: 1.6424949169158936 s\n",
      "Best found Solution.\n",
      "Sequence [1, 53, 85, 27, 15, 13, 79, 110, 64, 20, 55, 42, 67, 31, 47, 6, 149, 54, 134, 75, 22, 112, 8, 106, 17, 25, 90, 34, 145, 109, 98, 148, 88, 28, 39, 38, 71, 124, 72, 83, 62, 138, 113, 108, 114, 126, 101, 56, 119, 5, 43, 86, 133, 50, 95, 94, 123, 91, 70, 111, 121, 76, 131, 139, 21, 122, 89, 41, 59, 1] collects 3464 score points in 12904.561800253723 time units\n"
     ]
    }
   ],
   "source": [
    "data = InputData(\"Testinstanzen/Instance_5.json\")\n",
    "vns = VariableNeighborhoodSearch(data, maxRunTime)\n",
    "vns.NeighborhoodEvaluationStrategy = \"FirstImprovement\"\n",
    "solver = Solver(data, 2048)\n",
    "solver.RunLocalSearch(constructiveSolutionMethod = \"NNF\", algorithm = vns)"
   ]
  },
  {
   "attachments": {},
   "cell_type": "markdown",
   "metadata": {},
   "source": [
    "---\n",
    "### Fazit\n",
    "---\n",
    "\n",
    "- Metaheuristik funktioniert und erreicht Verbesserung\n",
    "- Konstruktive Heuristiken liefern bereits gute Ergebnisse, die oft nur geringfügig verbessert werden (ca. 5-10 %)\n",
    "- Zeitraum bis zum Abbruchkriterium wird quasi nie ausgereizt\n",
    "- Möglicher Grund dafür sind die gewählten Nachbarschaften\n",
    "- Idee, Tour mit Intra-Tour Tauschen zu komprimieren, um dann weitere Knoten hinzuzufügen funktioniert, aber wenig effizient\n",
    "- Vor allem durch radikalere Nachbarschaften hätte Lösung verbessert werden können\n",
    "    - für raffinierte Nachbarschaftsingenieurkunst hat am Ende die Zeit gefehlt\n",
    "- Aus der 'Parameteranalyse' hat sich die Kombination aus NNF und BestMove am besten geschlagen"
   ]
  }
 ],
 "metadata": {
  "kernelspec": {
   "display_name": "base",
   "language": "python",
   "name": "python3"
  },
  "language_info": {
   "codemirror_mode": {
    "name": "ipython",
    "version": 3
   },
   "file_extension": ".py",
   "mimetype": "text/x-python",
   "name": "python",
   "nbconvert_exporter": "python",
   "pygments_lexer": "ipython3",
   "version": "3.9.12"
  },
  "orig_nbformat": 4
 },
 "nbformat": 4,
 "nbformat_minor": 2
}
